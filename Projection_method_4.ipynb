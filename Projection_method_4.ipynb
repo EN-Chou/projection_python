{
 "cells": [
  {
   "cell_type": "code",
   "execution_count": null,
   "metadata": {
    "id": "ktHuyNJslDjq"
   },
   "outputs": [],
   "source": [
    "import matplotlib.pyplot as plt\n",
    "import numpy as np\n",
    "from IPython.display import clear_output\n",
    "import pandas as pd"
   ]
  },
  {
   "cell_type": "markdown",
   "metadata": {
    "id": "PrSXkSGTOjd2"
   },
   "source": [
    "Variables"
   ]
  },
  {
   "cell_type": "code",
   "execution_count": null,
   "metadata": {
    "id": "Q2VXELMUZxKu"
   },
   "outputs": [],
   "source": [
    "# User defined\n",
    "N=32\n",
    "dt=0.001\n",
    "tol_p=1e-3\n",
    "tol_v=1e-10\n",
    "Re=100"
   ]
  },
  {
   "cell_type": "code",
   "execution_count": null,
   "metadata": {
    "id": "nzLdveBEa_im"
   },
   "outputs": [],
   "source": [
    "dx=1.0/(N-1)\n",
    "dy=1.0/(N-1)"
   ]
  },
  {
   "cell_type": "code",
   "execution_count": null,
   "metadata": {
    "id": "uJv-smC4bggj"
   },
   "outputs": [],
   "source": [
    "P=np.zeros((N+1,N+1))\n",
    "U=np.zeros((N+1,N+1))\n",
    "V=np.zeros((N+1,N+1))\n",
    "U_1=np.zeros((N+1,N+1))\n",
    "V_1=np.zeros((N+1,N+1))\n",
    "U_2=np.zeros((N+1,N+1))\n",
    "V_2=np.zeros((N+1,N+1))\n",
    "U_prev=np.zeros((N+1,N+1))\n",
    "V_prev=np.zeros((N+1,N+1))\n",
    "P_prev=np.zeros((N+1,N+1))\n",
    "UC=np.zeros((N,N))\n",
    "VC=np.zeros((N,N))\n",
    "PC=np.zeros((N,N))"
   ]
  },
  {
   "cell_type": "code",
   "execution_count": null,
   "metadata": {
    "id": "l7niR58zQTtV"
   },
   "outputs": [],
   "source": [
    "x_b=[0, 0.0625, 0.0703, 0.0781, 0.0938, 0.1563, 0.2266, 0.2344, 0.5000, 0.8047, 0.8594, 0.9063, 0.9453, 0.9531, 0.9609, 0.9688, 1.0]\n",
    "y_b=[0, 0.0547, 0.0625, 0.0703, 0.1016, 0.1719, 0.2813, 0.4531, 0.5000, 0.6172, 0.7344, 0.8516, 0.9531, 0.9609, 0.9688, 0.9766, 1.0]\n",
    "Re_100_v=[0, 0.09233, 0.10091, 0.10890, 0.12317, 0.16077, 0.17507, 0.17527, 0.05454, -0.24533, -0.22445, -0.16914, -0.10313, -0.08864, -0.07391, -0.05906, 0]\n",
    "Re_100_u=[0, -0.03717, -0.04192, -0.04775, -0.06434, -0.10150, -0.15662, -0.21090, -0.20581, -0.13641, 0.00332, 0.23151, 0.68717, 0.73722, 0.78871, 0.84123, 1]"
   ]
  },
  {
   "cell_type": "code",
   "execution_count": null,
   "metadata": {
    "id": "dhujbPZlQTtW"
   },
   "outputs": [],
   "source": [
    "pt=np.zeros(N)\n",
    "for i in range(1,N):\n",
    "    pt[i]=(i-1)/(N-1)"
   ]
  },
  {
   "cell_type": "markdown",
   "metadata": {
    "id": "txhrHz20HmF7"
   },
   "source": [
    "Checkings"
   ]
  },
  {
   "cell_type": "code",
   "execution_count": null,
   "metadata": {
    "id": "UxvjrvUBHpHX"
   },
   "outputs": [],
   "source": [
    "def meet_poisson():\n",
    "  residual=0\n",
    "  for i in range(1,N):\n",
    "    for j in range(1,N):\n",
    "      ux=(U_2[i,j]-U_2[i-1,j])/dx;\n",
    "      vy=(V_2[i,j]-V_2[i,j-1])/dy;\n",
    "      poisson_LHP=(ux+vy)/dt;\n",
    "      poisson_RHP=(P[i+1,j]+P[i-1,j]+P[i,j+1]+P[i,j-1]-4*P[i,j])/(dx*dx)\n",
    "      residual+=abs(poisson_LHP-poisson_RHP)\n",
    "\n",
    "#   clear_output(wait=True)\n",
    "#   print(\"[meet Poisson]residual: \", residual)\n",
    "  if(residual<tol_p):\n",
    "    return True\n",
    "\n",
    "  return False"
   ]
  },
  {
   "cell_type": "code",
   "execution_count": null,
   "metadata": {
    "id": "4yGGHgQTH2cZ"
   },
   "outputs": [],
   "source": [
    "def is_steady():\n",
    "  vt=0\n",
    "  for i in range(1,N):\n",
    "    for j in range(1,N):\n",
    "      vt+=abs(U_prev[i,j]-U[i,j])\n",
    "      vt+=abs(V_prev[i,j]-V[i,j])\n",
    "      U_prev[i,j]=U[i,j];\n",
    "      V_prev[i,j]=V[i,j];\n",
    "\n",
    "#   print(\"[is_steady] velocity deviation: \",vt)\n",
    "  if(vt<tol_v):\n",
    "    return True\n",
    "\n",
    "  return False"
   ]
  },
  {
   "cell_type": "code",
   "execution_count": null,
   "metadata": {
    "id": "ICUwy3rtUt0F"
   },
   "outputs": [],
   "source": [
    "def collocate():\n",
    "  for i in range(N):\n",
    "    for j in range(N):\n",
    "      UC[i,j]=0.5*(U[i,j]+U[i,j+1])\n",
    "      VC[i,j]=0.5*(V[i,j]+V[i+1,j])\n",
    "      PC[i,j]=(P[i,j]+P[i+1,j]+P[i,j+1]+P[i+1,j+1])*0.25"
   ]
  },
  {
   "cell_type": "code",
   "execution_count": null,
   "metadata": {
    "id": "JKYF6XjOQTtN"
   },
   "outputs": [],
   "source": [
    "def moniter():\n",
    "  clear_output(wait=True)\n",
    "  print(\"Timestep: \", timestep)\n",
    "  fig, ax = plt.subplots(1, 3, figsize=(17,5))\n",
    "  ax[0].plot(Re_100_u, y_b, 'bo',np.transpose(UC)[:,int((N+1)/2)], pt)\n",
    "  ax[0].set(ylim=(0, 1))\n",
    "  ax[1].plot(x_b, Re_100_v, 'bo', pt, np.transpose(VC)[int((N+1)/2)])\n",
    "  ax[1].set(xlim=(0, 1))\n",
    "  ax[2].imshow(np.transpose(np.sqrt(np.multiply(UC, UC)+np.multiply(VC, VC))))\n",
    "  ax[2].invert_yaxis()\n",
    "  plt.show()"
   ]
  },
  {
   "cell_type": "code",
   "execution_count": null,
   "metadata": {
    "id": "gGp6Kgx3QTtN"
   },
   "outputs": [],
   "source": [
    "def to_file_init():\n",
    "  pd.DataFrame(np.zeros((1,(N-1)*2))).to_csv('div_U_2.csv', mode='w', header=False, index=False)\n",
    "  pd.DataFrame(np.zeros((1,(N-1)*2))).to_csv('P.csv', mode='w', header=False, index=False)"
   ]
  },
  {
   "cell_type": "code",
   "execution_count": null,
   "metadata": {
    "id": "i2AznCMPQTtO"
   },
   "outputs": [],
   "source": [
    "def to_file():\n",
    "  div_U_2=U_2[1:-1, 1:-1]-U_2[:-2,1:-1]+V_2[1:-1,1:-1]-V_2[1:-1,:-2]\n",
    "  pd.DataFrame(div_U_2.reshape((1,-1))).to_csv('div_U_2.csv', mode='a', header=False, index=False)\n",
    "  pd.DataFrame(P[1:-1,1:-1].reshape((1,-1))).to_csv('P.csv', mode='a', header=False, index=False)\n"
   ]
  },
  {
   "cell_type": "code",
   "execution_count": null,
   "metadata": {
    "id": "PHNUXtNzQTtP"
   },
   "outputs": [],
   "source": [
    "def check_data(file, idx=1): #check data in file\n",
    "  data=np.array(pd.read_csv(file, header=None), dtype=np.float32)\n",
    "  dim=int(np.sqrt(data[0].size))\n",
    "  draw=data[idx].reshape(dim,-1)\n",
    "  print(\"[check_data]file:\", data.shape)\n",
    "  print(\"[check_data]shape: \", draw.shape)\n",
    "  print(\"[check_data]max: \", np.max(draw))\n",
    "  print(\"[check_data]min: \", np.min(draw))\n",
    "  fig, ax = plt.subplots()\n",
    "  ax.imshow(np.transpose(data[idx].reshape(dim,-1)))\n",
    "  ax.invert_yaxis()\n",
    "    "
   ]
  },
  {
   "cell_type": "markdown",
   "metadata": {},
   "source": [
    "Import model"
   ]
  },
  {
   "cell_type": "code",
   "execution_count": null,
   "metadata": {},
   "outputs": [],
   "source": [
    "import torch\n",
    "import torch.nn as nn\n",
    "import torch.nn.functional as F"
   ]
  },
  {
   "cell_type": "code",
   "execution_count": null,
   "metadata": {},
   "outputs": [],
   "source": [
    "d=31\n",
    "class VAE(nn.Module):\n",
    "    def __init__(self, imgChannels=1, featureDim=64*d*d, zDim=256):\n",
    "        super(VAE, self).__init__()\n",
    "\n",
    "        self.encConv1 = nn.Conv2d(imgChannels, 8, 3, padding=1)\n",
    "        self.encConv2 = nn.Conv2d(8, 16, 3, padding=1)\n",
    "        self.encConv3 = nn.Conv2d(16, 64, 3, padding=1)\n",
    "        self.encFC1 = nn.Linear(featureDim, zDim)\n",
    "        self.encFC2 = nn.Linear(featureDim, zDim)\n",
    "\n",
    "        self.decFC1 = nn.Linear(zDim, featureDim)\n",
    "        self.decConv1 = nn.ConvTranspose2d(64, 16, 3, padding=1)\n",
    "        self.decConv2 = nn.ConvTranspose2d(16, 8, 3, padding=1)\n",
    "        self.decConv3 = nn.ConvTranspose2d(8, imgChannels, 3, padding=1)\n",
    "\n",
    "    def encoder(self, x):\n",
    "\n",
    "        x = F.relu(self.encConv1(x))\n",
    "        x = F.relu(self.encConv2(x))\n",
    "        x = F.relu(self.encConv3(x))\n",
    "        x = x.view(-1, 64*d*d)\n",
    "        mu = self.encFC1(x)\n",
    "        return mu\n",
    "\n",
    "    def reparameterize(self, mu, logVar):\n",
    "\n",
    "        std = torch.exp(logVar/2)\n",
    "        eps = torch.randn_like(std)\n",
    "        return mu + std * eps\n",
    "\n",
    "    def decoder(self, z):\n",
    "\n",
    "        x = F.relu(self.decFC1(z))\n",
    "        x = x.view(-1, 64, d, d)\n",
    "        x = F.relu(self.decConv1(x))\n",
    "        x = F.relu(self.decConv2(x))\n",
    "        x = F.tanh(self.decConv3(x))\n",
    "        return x\n",
    "\n",
    "    def forward(self, x):\n",
    "\n",
    "        mu = self.encoder(x)\n",
    "        out = self.decoder(mu)\n",
    "        return out"
   ]
  },
  {
   "cell_type": "code",
   "execution_count": null,
   "metadata": {},
   "outputs": [],
   "source": [
    "model = torch.load('./Preserved/ConvAE_SupervisedPINN.pth')\n",
    "model.eval()"
   ]
  },
  {
   "cell_type": "markdown",
   "metadata": {
    "id": "bprGkjtSHNe1"
   },
   "source": [
    "Computation-1"
   ]
  },
  {
   "cell_type": "code",
   "execution_count": null,
   "metadata": {
    "id": "YMj4a3rkQbMF"
   },
   "outputs": [],
   "source": [
    "def setBC(option):\n",
    "  if option=='P':\n",
    "    P[0,:]=P[1,:] #west\n",
    "    P[N,:]=P[N-1,:] #east\n",
    "    P[:,0]=P[:,1] #south\n",
    "    P[:,N]=P[:,N-1] #north\n",
    "\n",
    "  elif option=='U':\n",
    "    U[:,N]=2-U[:,N-1] #north\n",
    "    U[:,0]=-U[:,1] #south\n",
    "    U[0,:]=0 #west\n",
    "    U[N-1,:]=0 #east\n",
    "    \n",
    "    U_1[:,N]=2-U_1[:,N-1] #north\n",
    "    U_1[:,0]=-U_1[:,1] #south\n",
    "    U_1[0,:]=0 #west\n",
    "    U_1[N-1,:]=0 #east\n",
    "\n",
    "    U_2[:,N]=2-U_2[:,N-1] #north\n",
    "    U_2[:,0]=-U_2[:,1] #south\n",
    "    U_2[0,:]=0 #west\n",
    "    U_2[N-1,:]=0 #east\n",
    "    \n",
    "  elif option=='V':\n",
    "    V[0,:]=-V[1,:] #west\n",
    "    V[N,:]=-V[N-1,:] #east\n",
    "    V[:,0]=0 #south\n",
    "    V[:,N-1]=0 #north\n",
    "\n",
    "    V_1[0,:]=-V_1[1,:] #west\n",
    "    V_1[N,:]=-V_1[N-1,:] #east\n",
    "    V_1[:,0]=0 #south\n",
    "    V_1[:,N-1]=0 #north\n",
    "\n",
    "    V_2[0,:]=-V_2[1,:] #west\n",
    "    V_2[N,:]=-V_2[N-1,:] #east\n",
    "    V_2[:,0]=0 #south\n",
    "    V_2[:,N-1]=0 #north"
   ]
  },
  {
   "cell_type": "code",
   "execution_count": null,
   "metadata": {
    "id": "R-pStLefvux9"
   },
   "outputs": [],
   "source": [
    "def solve_U1():\n",
    "  for i in range(1,N-1):\n",
    "    for j in range(1,N):\n",
    "      u=U[i,j]\n",
    "      v=(V[i,j]+V[i+1,j]+V[i,j-1]+V[i+1,j-1])/4\n",
    "      ux=(U[i+1,j]-U[i-1,j])/(2*dx)\n",
    "      uy=(U[i,j+1]-U[i,j-1])/(2*dy)\n",
    "      u2x=(U[i+1,j]+U[i-1,j]-2*U[i,j])/(dx*dx)\n",
    "      u2y=(U[i,j+1]+U[i,j-1]-2*U[i,j])/(dy*dy)\n",
    "\n",
    "      C=u*ux+v*uy\n",
    "      D=(u2x+u2y)/Re\n",
    "\n",
    "      px=(P[i+1,j]-P[i,j])/dx\n",
    "      U_1[i,j]=(-C+D-px)*dt+U[i,j]"
   ]
  },
  {
   "cell_type": "code",
   "execution_count": null,
   "metadata": {
    "id": "fHjhaDhdAQsh"
   },
   "outputs": [],
   "source": [
    "def solve_V1():\n",
    "  for i in range(1,N):\n",
    "    for j in range(1,N-1):\n",
    "      u=(U[i-1,j+1]+U[i,j+1]+U[i-1,j]+U[i,j])/4.0;\n",
    "      v=V[i,j]\n",
    "      vx=(V[i+1,j]-V[i-1,j])/(2*dx)\n",
    "      vy=(V[i,j+1]-V[i,j-1])/(2*dy)\n",
    "      v2x=(V[i+1,j]+V[i-1,j]-2*V[i,j])/(dx*dx)\n",
    "      v2y=(V[i,j+1]+V[i,j-1]-2*V[i,j])/(dy*dy)\n",
    "      \n",
    "      C=u*vx+v*vy\n",
    "      D=(v2x+v2y)/Re\n",
    "      \n",
    "      py=(P[i,j+1]-P[i,j])/dy\n",
    "      V_1[i][j]=(-C+D-py)*dt+V[i,j]"
   ]
  },
  {
   "cell_type": "code",
   "execution_count": null,
   "metadata": {
    "id": "mMbCGVE6EC5m"
   },
   "outputs": [],
   "source": [
    "def solve_U2():\n",
    "  for i in range(1,N-1):\n",
    "    for j in range(1,N):\n",
    "      px=(P[i+1,j]-P[i,j])/dx\n",
    "      U_2[i,j]=px*dt+U_1[i,j]"
   ]
  },
  {
   "cell_type": "code",
   "execution_count": null,
   "metadata": {
    "id": "KD6-2b4cECWr"
   },
   "outputs": [],
   "source": [
    "def solve_V2():\n",
    "  for i in range(1,N):\n",
    "    for j in range(1,N-1):\n",
    "      py=(P[i,j+1]-P[i,j])/dy\n",
    "      V_2[i,j]=py*dt+V_1[i,j]"
   ]
  },
  {
   "cell_type": "code",
   "execution_count": null,
   "metadata": {},
   "outputs": [],
   "source": [
    "data=np.array(pd.read_csv(\"./Preserved/P.csv\", header=None), dtype=np.float32)"
   ]
  },
  {
   "cell_type": "code",
   "execution_count": null,
   "metadata": {},
   "outputs": [],
   "source": [
    "data=data[:,:961]\n",
    "i=0\n",
    "prev_u=np.zeros((31,31))\n",
    "def guess_P():\n",
    "    global i, prev_u, prev_p\n",
    "    \n",
    "    # 查表 \n",
    "    i=i+1\n",
    "    P[1:N,1:N]=data[i].reshape(N-1,-1)\n",
    "'''\n",
    "    # Machine learning\n",
    "    div_U_2=U_2[1:-1, 1:-1]-U_2[:-2,1:-1]+V_2[1:-1,1:-1]-V_2[1:-1,:-2]\n",
    "    du=div_U_2-prev_u\n",
    "    tu=torch.tensor(du).float()\n",
    "    tu=tu.view(1, 31, 31)\n",
    "    tp=model(tu)\n",
    "    p=tp.detach().cpu().numpy()\n",
    "    P[1:N,1:N]=P[1:N,1:N]+np.squeeze(p)\n",
    "    prev_u=div_U_2\n",
    "'''"
   ]
  },
  {
   "cell_type": "code",
   "execution_count": null,
   "metadata": {
    "id": "N18msDcYLyLR"
   },
   "outputs": [],
   "source": [
    "def solve_P():\n",
    "  iteration=0\n",
    "  while(meet_poisson()==False):\n",
    "    iteration=iteration+1\n",
    "#     clear_output(wait=True)\n",
    "#     print(\"[solve_P]iteration: \", iteration)\n",
    "    for i in range(1,N):\n",
    "      for j in range(1,N):\n",
    "        ux=(U_2[i,j]-U_2[i-1,j])/dx\n",
    "        vy=(V_2[i,j]-V_2[i,j-1])/dy\n",
    "        poisson_LHP=(ux+vy)/dt\n",
    "        P[i,j]=0.25*(P[i+1,j]+P[i-1,j]+P[i,j+1]+P[i,j-1]-poisson_LHP*dx*dx)\n",
    "  print(\"[solve_P](timestep=\", timestep, \")iteration: \", iteration)\n",
    "#   meet_poisson()"
   ]
  },
  {
   "cell_type": "code",
   "execution_count": null,
   "metadata": {
    "id": "SRqYAZmWMk-l"
   },
   "outputs": [],
   "source": [
    "def solve_U():\n",
    "  for i in range(1,N-1):\n",
    "    for j in range(1,N):\n",
    "      px=(P[i+1,j]-P[i,j])/dx\n",
    "      U[i,j]=-px*dt+U_2[i,j]"
   ]
  },
  {
   "cell_type": "code",
   "execution_count": null,
   "metadata": {
    "id": "Mxsp1I12NBAx"
   },
   "outputs": [],
   "source": [
    "def solve_V():\n",
    "  for i in range(1,N):\n",
    "    for j in range(1,N-1):\n",
    "      py=(P[i,j+1]-P[i,j])/dy\n",
    "      V[i,j]=-py*dt+V_2[i,j]"
   ]
  },
  {
   "cell_type": "markdown",
   "metadata": {
    "id": "6J2fUentPK6L"
   },
   "source": [
    "Computation-2"
   ]
  },
  {
   "cell_type": "code",
   "execution_count": null,
   "metadata": {
    "id": "i0l_xzxTPNEX"
   },
   "outputs": [],
   "source": [
    "def set_BC(option=3):\n",
    "  if option==0:\n",
    "    setBC('P')\n",
    "\n",
    "  elif option==1:\n",
    "    setBC('U')\n",
    "\n",
    "  elif option==2:\n",
    "    setBC('V')\n",
    "    \n",
    "  elif option==3:\n",
    "    setBC('U')\n",
    "    setBC('V')\n",
    "    setBC('P')"
   ]
  },
  {
   "cell_type": "code",
   "execution_count": null,
   "metadata": {
    "id": "RRSpT1qRPNRz"
   },
   "outputs": [],
   "source": [
    "def step_1(option):\n",
    "  if option==1:\n",
    "    solve_U1()\n",
    "  elif option==2:\n",
    "    solve_V1()"
   ]
  },
  {
   "cell_type": "code",
   "execution_count": null,
   "metadata": {
    "id": "FUZnoQ3sQxLm"
   },
   "outputs": [],
   "source": [
    "def step_2(option):\n",
    "  if option==1:\n",
    "    solve_U2()\n",
    "  elif option==2:\n",
    "    solve_V2()"
   ]
  },
  {
   "cell_type": "code",
   "execution_count": null,
   "metadata": {
    "id": "m6EMjEYYQ2cf"
   },
   "outputs": [],
   "source": [
    "def step_3(option):\n",
    "  guess_P()\n",
    "  solve_P()"
   ]
  },
  {
   "cell_type": "code",
   "execution_count": null,
   "metadata": {
    "id": "YPbo7zBkPNfQ"
   },
   "outputs": [],
   "source": [
    "def step_4(option):\n",
    "  if option==1:\n",
    "    solve_U()\n",
    "  elif option==2:\n",
    "    solve_V()"
   ]
  },
  {
   "cell_type": "markdown",
   "metadata": {
    "id": "ouwP8LX5R_Pu"
   },
   "source": [
    "Algorithm"
   ]
  },
  {
   "cell_type": "code",
   "execution_count": null,
   "metadata": {
    "colab": {
     "base_uri": "https://localhost:8080/",
     "height": 680
    },
    "id": "zpbgJeHVR9-n",
    "outputId": "b00a4025-218a-400c-a7fb-ca3de92caa46",
    "scrolled": false
   },
   "outputs": [],
   "source": [
    "timestep=0\n",
    "set_BC()\n",
    "# to_file_init()\n",
    "while((timestep==0)|(is_steady()==False)): #&(is_steady()==False)):\n",
    "  timestep+=1\n",
    "  step_1(1)\n",
    "  step_1(2)\n",
    "\n",
    "  step_2(1)\n",
    "  step_2(2)\n",
    "\n",
    "  set_BC(1)\n",
    "  set_BC(2)\n",
    "\n",
    "  step_3(0)\n",
    "  set_BC(0)\n",
    "\n",
    "  step_4(1)\n",
    "  step_4(2)\n",
    "  set_BC(1)\n",
    "  set_BC(2)\n",
    "\n",
    "  collocate()\n",
    "  \n",
    "  #moniter\n",
    "  moniter()\n",
    "    \n",
    "  #savedata\n",
    "#   to_file()"
   ]
  },
  {
   "cell_type": "markdown",
   "metadata": {
    "id": "P4Cz2ZziQTtV"
   },
   "source": [
    "Post-process"
   ]
  },
  {
   "cell_type": "code",
   "execution_count": null,
   "metadata": {
    "id": "gXe0PmYNQTtW"
   },
   "outputs": [],
   "source": [
    "fig, ax = plt.subplots(1, 2, figsize=(11,5))\n",
    "ax[0].plot(Re_100_u, y_b, 'bo',np.transpose(UC)[:,41], pt)\n",
    "ax[0].set(ylim=(0, 1))\n",
    "ax[1].plot(x_b, Re_100_v, 'bo', pt, np.transpose(VC)[41])\n",
    "ax[1].set(xlim=(0, 1))\n",
    "plt.show()"
   ]
  },
  {
   "cell_type": "code",
   "execution_count": null,
   "metadata": {
    "id": "GKCDtarsQTtW"
   },
   "outputs": [],
   "source": [
    "fig, ax = plt.subplots(1, 3, figsize=(17,5))\n",
    "# ax[0].plot(Re_100_u, y_b, 'bo',np.transpose(UC)[:,41], pt)\n",
    "# ax[0].set(ylim=(0, 1))\n",
    "ax[0].imshow(np.transpose(UC))\n",
    "ax[0].invert_yaxis()\n",
    "ax[1].imshow(np.transpose(VC))\n",
    "ax[1].invert_yaxis()\n",
    "ax[2].imshow(np.transpose(np.sqrt(np.multiply(UC, UC)+np.multiply(VC, VC))))\n",
    "ax[2].invert_yaxis()\n",
    "plt.show()"
   ]
  }
 ],
 "metadata": {
  "colab": {
   "provenance": []
  },
  "kernelspec": {
   "display_name": "Python 3 (ipykernel)",
   "language": "python",
   "name": "python3"
  },
  "language_info": {
   "codemirror_mode": {
    "name": "ipython",
    "version": 3
   },
   "file_extension": ".py",
   "mimetype": "text/x-python",
   "name": "python",
   "nbconvert_exporter": "python",
   "pygments_lexer": "ipython3",
   "version": "3.10.4"
  }
 },
 "nbformat": 4,
 "nbformat_minor": 1
}
